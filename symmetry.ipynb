{
 "cells": [
  {
   "cell_type": "code",
   "execution_count": 9,
   "id": "b8506669",
   "metadata": {},
   "outputs": [
    {
     "name": "stdout",
     "output_type": "stream",
     "text": [
      "Full Formula (Ba4 Na4 Sb4)\n",
      "Reduced Formula: BaNaSb\n",
      "abc   :   7.552518   7.552518   7.552518\n",
      "angles:  90.000000  90.000000  90.000000\n",
      "Sites (12)\n",
      "  #  SP       a     b     c\n",
      "---  ----  ----  ----  ----\n",
      "  0  Ba    0.5   0     0\n",
      "  1  Ba    0.5   0.5   0.5\n",
      "  2  Ba    0     0     0.5\n",
      "  3  Ba    0     0.5   0\n",
      "  4  Na    0.25  0.25  0.25\n",
      "  5  Na    0.25  0.75  0.75\n",
      "  6  Na    0.75  0.25  0.75\n",
      "  7  Na    0.75  0.75  0.25\n",
      "  8  Sb    0     0     0\n",
      "  9  Sb    0     0.5   0.5\n",
      " 10  Sb    0.5   0     0.5\n",
      " 11  Sb    0.5   0.5   0\n"
     ]
    }
   ],
   "source": [
    "from pymatgen.ext.matproj import MPRester\n",
    "from pymatgen import Structure\n",
    "from pymatgen.symmetry.analyzer import SpacegroupAnalyzer\n",
    "from jupyter_jsmol.pymatgen import quick_view\n",
    "\n",
    "with MPRester(\"AQwsCqxPeioMztVOij\") as m:\n",
    "    structure = m.get_structure_by_material_id(\"mp-961774\", conventional_unit_cell=True)\n",
    "    print(structure)\n",
    "    symOp = SpacegroupAnalyzer(structure).get_symmetry_operations()\n",
    "    sites = structure.sites\n",
    "    "
   ]
  },
  {
   "cell_type": "code",
   "execution_count": 10,
   "id": "f29926bd",
   "metadata": {},
   "outputs": [
    {
     "name": "stdout",
     "output_type": "stream",
     "text": [
      "Opération de symétrie:\n",
      " Rot:\n",
      "[[-1.  0.  0.]\n",
      " [ 0. -1.  0.]\n",
      " [ 0.  0.  1.]]\n",
      "tau\n",
      "[0. 0. 0.] \n",
      "\n",
      "Coordonnées de l'atome après la rotation hélicoïdale: [-0.5  0.   0. ]\n"
     ]
    },
    {
     "data": {
      "application/vnd.jupyter.widget-view+json": {
       "model_id": "30cf3812c8c2473cbc241885cd84361a",
       "version_major": 2,
       "version_minor": 0
      },
      "text/plain": [
       "JsmolView(layout=Layout(align_self='stretch', height='400px'))"
      ]
     },
     "metadata": {},
     "output_type": "display_data"
    }
   ],
   "source": [
    "#Symétrie 1: rotation hélicoïdale:\n",
    "#Ba (3.7763, 0.0000, 0.0000)\n",
    "\n",
    "print(\"Opération de symétrie:\\n\",symOp[2],\"\\n\")\n",
    "elem_1 = symOp[2].operate(sites[0].frac_coords)\n",
    "print(\"Coordonnées de l'atome après la rotation hélicoïdale:\", elem_1)\n",
    "view = quick_view(structure)\n",
    "display(view)\n",
    "view.script('draw SYMOP 3 {atomno=1}')"
   ]
  },
  {
   "cell_type": "code",
   "execution_count": 13,
   "id": "76958b3a",
   "metadata": {},
   "outputs": [
    {
     "name": "stdout",
     "output_type": "stream",
     "text": [
      "Opération de symétrie:\n",
      " Rot:\n",
      "[[ 0.  0.  1.]\n",
      " [ 0. -1.  0.]\n",
      " [-1.  0.  0.]]\n",
      "tau\n",
      "[0. 0. 0.] \n",
      "\n",
      "Coordonnées de l'atome après la roto-inversion: [ 0.75 -0.75 -0.25]\n"
     ]
    },
    {
     "data": {
      "application/vnd.jupyter.widget-view+json": {
       "model_id": "6c8246ad68064c3196b4076214f12034",
       "version_major": 2,
       "version_minor": 0
      },
      "text/plain": [
       "JsmolView(layout=Layout(align_self='stretch', height='400px'))"
      ]
     },
     "metadata": {},
     "output_type": "display_data"
    }
   ],
   "source": [
    "#Symétrie 2 : roto-inversion :\n",
    "#Na (1.8881, 5.6644, 5.6644)\n",
    "\n",
    "print(\"Opération de symétrie:\\n\",symOp[15],\"\\n\")\n",
    "elem_2 = symOp[15].operate(sites[5].frac_coords)\n",
    "print(\"Coordonnées de l'atome après la roto-inversion:\", elem_2)\n",
    "view = quick_view(structure)\n",
    "display(view)\n",
    "view.script('draw SYMOP 16 {atomno=6}')"
   ]
  },
  {
   "cell_type": "code",
   "execution_count": 12,
   "id": "16bfa594",
   "metadata": {},
   "outputs": [
    {
     "name": "stdout",
     "output_type": "stream",
     "text": [
      "Opération de symétrie:\n",
      " Rot:\n",
      "[[0. 1. 0.]\n",
      " [1. 0. 0.]\n",
      " [0. 0. 1.]]\n",
      "tau\n",
      "[0. 0. 0.] \n",
      "\n",
      "Coordonnées de l'atome après la réflexion sur le plan miroir [0.5 0.  0.5]\n"
     ]
    },
    {
     "data": {
      "application/vnd.jupyter.widget-view+json": {
       "model_id": "d99eeb80ec124b05bc8f8b7e26ee2715",
       "version_major": 2,
       "version_minor": 0
      },
      "text/plain": [
       "JsmolView(layout=Layout(align_self='stretch', height='400px'))"
      ]
     },
     "metadata": {},
     "output_type": "display_data"
    }
   ],
   "source": [
    "#Symétrie 3 : Plan miroir :\n",
    "#Sb (0.0000, 3.7763, 3.7763)\n",
    "\n",
    "print(\"Opération de symétrie:\\n\",symOp[5],\"\\n\")\n",
    "elem_3 = symOp[5].operate(sites[9].frac_coords)\n",
    "print(\"Coordonnées de l'atome après la réflexion sur le plan miroir\", elem_3)\n",
    "view = quick_view(structure)\n",
    "display(view)\n",
    "view.script('draw SYMOP 6 {atomno=10}')"
   ]
  },
  {
   "cell_type": "code",
   "execution_count": null,
   "id": "63460670",
   "metadata": {},
   "outputs": [],
   "source": []
  },
  {
   "cell_type": "code",
   "execution_count": null,
   "id": "82e29ebb",
   "metadata": {},
   "outputs": [],
   "source": []
  }
 ],
 "metadata": {
  "kernelspec": {
   "display_name": "Python 3",
   "language": "python",
   "name": "python3"
  },
  "language_info": {
   "codemirror_mode": {
    "name": "ipython",
    "version": 3
   },
   "file_extension": ".py",
   "mimetype": "text/x-python",
   "name": "python",
   "nbconvert_exporter": "python",
   "pygments_lexer": "ipython3",
   "version": "3.6.8"
  }
 },
 "nbformat": 4,
 "nbformat_minor": 5
}
