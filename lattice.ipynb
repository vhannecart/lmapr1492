{
 "cells": [
  {
   "cell_type": "code",
   "execution_count": 15,
   "id": "15a51878",
   "metadata": {},
   "outputs": [],
   "source": [
    "from pymatgen.ext.matproj import MPRester\n",
    "from pymatgen.symmetry.analyzer import SpacegroupAnalyzer\n",
    "\n",
    "with MPRester(\"AQwsCqxPeioMztVOij\") as m:\n",
    "    structure = m.get_structure_by_material_id(\"mp-961774\")\n",
    "    struct = SpacegroupAnalyzer(structure)\n",
    "    s=SpacegroupAnalyzer(structure).get_primitive_standard_structure()\n",
    "    "
   ]
  },
  {
   "cell_type": "code",
   "execution_count": 16,
   "id": "394c28f0",
   "metadata": {},
   "outputs": [
    {
     "name": "stdout",
     "output_type": "stream",
     "text": [
      "5.340436692833462\n",
      "5.340436692833462\n",
      "5.340436692833462\n",
      "60.00000000000001\n",
      "60.00000000000001\n",
      "59.99999999999999\n"
     ]
    }
   ],
   "source": [
    "#paramètres réseau direct\n",
    "latt = s.lattice\n",
    "adir = latt.a\n",
    "bdir = latt.b\n",
    "cdir = latt.c\n",
    "alphadir = latt.alpha\n",
    "betadir = latt.beta\n",
    "gammadir = latt.gamma\n",
    "\n",
    "\n",
    "print(adir)\n",
    "print(bdir)\n",
    "print(cdir)\n",
    "print(alphadir)\n",
    "print(betadir)\n",
    "print(gammadir)"
   ]
  },
  {
   "cell_type": "code",
   "execution_count": 17,
   "id": "67aea199",
   "metadata": {},
   "outputs": [
    {
     "name": "stdout",
     "output_type": "stream",
     "text": [
      "1.440949387397065\n",
      "1.440949387397065\n",
      "1.440949387397065\n",
      "109.47122063449069\n",
      "109.47122063449069\n",
      "109.47122063449069\n"
     ]
    }
   ],
   "source": [
    "#paramètres réseau réciproque\n",
    "rec = latt.reciprocal_lattice\n",
    "arec = reciprocal.a\n",
    "brec = reciprocal.b\n",
    "crec = reciprocal.c\n",
    "alpharec = reciprocal.alpha\n",
    "betarec = reciprocal.beta\n",
    "gammarec = reciprocal.gamma\n",
    "\n",
    "print(arec)\n",
    "print(brec)\n",
    "print(crec)\n",
    "print(alpharec)\n",
    "print(betarec)\n",
    "print(gammarec)"
   ]
  },
  {
   "cell_type": "code",
   "execution_count": 18,
   "id": "0cf0f495",
   "metadata": {
    "scrolled": true
   },
   "outputs": [
    {
     "name": "stdout",
     "output_type": "stream",
     "text": [
      "cubic\n"
     ]
    }
   ],
   "source": [
    "#Type de maille\n",
    "maille = struct.get_lattice_type()\n",
    "print(maille)"
   ]
  },
  {
   "cell_type": "code",
   "execution_count": 19,
   "id": "b8c2138c",
   "metadata": {},
   "outputs": [
    {
     "name": "stdout",
     "output_type": "stream",
     "text": [
      "cubic\n"
     ]
    }
   ],
   "source": [
    "#Système cristallin\n",
    "systcristal = struct.get_crystal_system()\n",
    "print(systcristal)"
   ]
  },
  {
   "cell_type": "code",
   "execution_count": 20,
   "id": "30452bdf",
   "metadata": {},
   "outputs": [
    {
     "name": "stdout",
     "output_type": "stream",
     "text": [
      "-43m\n"
     ]
    }
   ],
   "source": [
    "#Groupe ponctuel\n",
    "ponct = struct.get_point_group_symbol()\n",
    "print(ponct)"
   ]
  },
  {
   "cell_type": "code",
   "execution_count": null,
   "id": "91ff8877",
   "metadata": {},
   "outputs": [],
   "source": []
  }
 ],
 "metadata": {
  "kernelspec": {
   "display_name": "Python 3",
   "language": "python",
   "name": "python3"
  },
  "language_info": {
   "codemirror_mode": {
    "name": "ipython",
    "version": 3
   },
   "file_extension": ".py",
   "mimetype": "text/x-python",
   "name": "python",
   "nbconvert_exporter": "python",
   "pygments_lexer": "ipython3",
   "version": "3.6.8"
  }
 },
 "nbformat": 4,
 "nbformat_minor": 5
}
